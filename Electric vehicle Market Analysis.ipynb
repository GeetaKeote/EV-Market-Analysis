{
 "cells": [
  {
   "cell_type": "markdown",
   "id": "e744a3d2",
   "metadata": {},
   "source": [
    "# The Electric Vehicle market in India using Segmentation analysis"
   ]
  },
  {
   "cell_type": "code",
   "execution_count": 3,
   "id": "c5170bfe",
   "metadata": {},
   "outputs": [],
   "source": [
    "import pandas as pd\n",
    "import numpy as np\n",
    "import matplotlib.pyplot as plt\n",
    "%matplotlib inline\n",
    "import seaborn as sns\n",
    "\n",
    "from warnings import filterwarnings\n",
    "filterwarnings(\"ignore\")"
   ]
  },
  {
   "cell_type": "markdown",
   "id": "c2a28453",
   "metadata": {},
   "source": [
    "# Data Collection"
   ]
  },
  {
   "cell_type": "code",
   "execution_count": 5,
   "id": "fcd02cbb",
   "metadata": {},
   "outputs": [
    {
     "data": {
      "text/html": [
       "<div>\n",
       "<style scoped>\n",
       "    .dataframe tbody tr th:only-of-type {\n",
       "        vertical-align: middle;\n",
       "    }\n",
       "\n",
       "    .dataframe tbody tr th {\n",
       "        vertical-align: top;\n",
       "    }\n",
       "\n",
       "    .dataframe thead th {\n",
       "        text-align: right;\n",
       "    }\n",
       "</style>\n",
       "<table border=\"1\" class=\"dataframe\">\n",
       "  <thead>\n",
       "    <tr style=\"text-align: right;\">\n",
       "      <th></th>\n",
       "      <th>Age</th>\n",
       "      <th>Profession</th>\n",
       "      <th>Marrital Status</th>\n",
       "      <th>Education</th>\n",
       "      <th>No of Dependents</th>\n",
       "      <th>Personal loan</th>\n",
       "      <th>Total Salary</th>\n",
       "      <th>Price</th>\n",
       "    </tr>\n",
       "  </thead>\n",
       "  <tbody>\n",
       "    <tr>\n",
       "      <th>0</th>\n",
       "      <td>27</td>\n",
       "      <td>Salaried</td>\n",
       "      <td>Single</td>\n",
       "      <td>Post Graduate</td>\n",
       "      <td>0</td>\n",
       "      <td>Yes</td>\n",
       "      <td>800000</td>\n",
       "      <td>800000</td>\n",
       "    </tr>\n",
       "    <tr>\n",
       "      <th>1</th>\n",
       "      <td>35</td>\n",
       "      <td>Salaried</td>\n",
       "      <td>Married</td>\n",
       "      <td>Post Graduate</td>\n",
       "      <td>2</td>\n",
       "      <td>Yes</td>\n",
       "      <td>2000000</td>\n",
       "      <td>1000000</td>\n",
       "    </tr>\n",
       "    <tr>\n",
       "      <th>2</th>\n",
       "      <td>45</td>\n",
       "      <td>Business</td>\n",
       "      <td>Married</td>\n",
       "      <td>Graduate</td>\n",
       "      <td>4</td>\n",
       "      <td>Yes</td>\n",
       "      <td>1800000</td>\n",
       "      <td>1200000</td>\n",
       "    </tr>\n",
       "    <tr>\n",
       "      <th>3</th>\n",
       "      <td>41</td>\n",
       "      <td>Business</td>\n",
       "      <td>Married</td>\n",
       "      <td>Post Graduate</td>\n",
       "      <td>3</td>\n",
       "      <td>No</td>\n",
       "      <td>2200000</td>\n",
       "      <td>1200000</td>\n",
       "    </tr>\n",
       "    <tr>\n",
       "      <th>4</th>\n",
       "      <td>31</td>\n",
       "      <td>Salaried</td>\n",
       "      <td>Married</td>\n",
       "      <td>Post Graduate</td>\n",
       "      <td>2</td>\n",
       "      <td>Yes</td>\n",
       "      <td>2600000</td>\n",
       "      <td>1600000</td>\n",
       "    </tr>\n",
       "  </tbody>\n",
       "</table>\n",
       "</div>"
      ],
      "text/plain": [
       "   Age Profession Marrital Status      Education  No of Dependents  \\\n",
       "0   27   Salaried          Single  Post Graduate                 0   \n",
       "1   35   Salaried         Married  Post Graduate                 2   \n",
       "2   45   Business         Married       Graduate                 4   \n",
       "3   41   Business         Married  Post Graduate                 3   \n",
       "4   31   Salaried         Married  Post Graduate                 2   \n",
       "\n",
       "  Personal loan  Total Salary    Price  \n",
       "0           Yes        800000   800000  \n",
       "1           Yes       2000000  1000000  \n",
       "2           Yes       1800000  1200000  \n",
       "3            No       2200000  1200000  \n",
       "4           Yes       2600000  1600000  "
      ]
     },
     "execution_count": 5,
     "metadata": {},
     "output_type": "execute_result"
    }
   ],
   "source": [
    "df1= pd.read_csv('behaviroual_dataset.csv')\n",
    "df1.head()"
   ]
  },
  {
   "cell_type": "markdown",
   "id": "c5ea464f",
   "metadata": {},
   "source": [
    "# EDA"
   ]
  },
  {
   "cell_type": "code",
   "execution_count": 7,
   "id": "3690dbac",
   "metadata": {},
   "outputs": [
    {
     "name": "stdout",
     "output_type": "stream",
     "text": [
      "<class 'pandas.core.frame.DataFrame'>\n",
      "RangeIndex: 99 entries, 0 to 98\n",
      "Data columns (total 8 columns):\n",
      " #   Column            Non-Null Count  Dtype \n",
      "---  ------            --------------  ----- \n",
      " 0   Age               99 non-null     int64 \n",
      " 1   Profession        99 non-null     object\n",
      " 2   Marrital Status   99 non-null     object\n",
      " 3   Education         99 non-null     object\n",
      " 4   No of Dependents  99 non-null     int64 \n",
      " 5   Personal loan     99 non-null     object\n",
      " 6   Total Salary      99 non-null     int64 \n",
      " 7   Price             99 non-null     int64 \n",
      "dtypes: int64(4), object(4)\n",
      "memory usage: 6.3+ KB\n"
     ]
    }
   ],
   "source": [
    "df1.info()"
   ]
  },
  {
   "cell_type": "code",
   "execution_count": 8,
   "id": "b242cc96",
   "metadata": {},
   "outputs": [
    {
     "data": {
      "text/plain": [
       "(99, 8)"
      ]
     },
     "execution_count": 8,
     "metadata": {},
     "output_type": "execute_result"
    }
   ],
   "source": [
    "df1.shape"
   ]
  },
  {
   "cell_type": "code",
   "execution_count": 9,
   "id": "d5d2486d",
   "metadata": {},
   "outputs": [
    {
     "data": {
      "text/plain": [
       "Age                 0\n",
       "Profession          0\n",
       "Marrital Status     0\n",
       "Education           0\n",
       "No of Dependents    0\n",
       "Personal loan       0\n",
       "Total Salary        0\n",
       "Price               0\n",
       "dtype: int64"
      ]
     },
     "execution_count": 9,
     "metadata": {},
     "output_type": "execute_result"
    }
   ],
   "source": [
    "df1.isnull().sum()"
   ]
  },
  {
   "cell_type": "code",
   "execution_count": 11,
   "id": "f65f532f",
   "metadata": {},
   "outputs": [
    {
     "data": {
      "text/plain": [
       "<AxesSubplot:>"
      ]
     },
     "execution_count": 11,
     "metadata": {},
     "output_type": "execute_result"
    },
    {
     "data": {
      "image/png": "[encoded data removed]",
      "text/plain": [
       "<Figure size 432x288 with 2 Axes>"
      ]
     },
     "metadata": {
      "needs_background": "light"
     },
     "output_type": "display_data"
    }
   ],
   "source": [
    "sns.heatmap(df1.corr(), annot=True)"
   ]
  },
  {
   "cell_type": "markdown",
   "id": "593d4a1c",
   "metadata": {},
   "source": [
    "# Data Visualization"
   ]
  },
  {
   "cell_type": "code",
   "execution_count": 25,
   "id": "cf7a74bb",
   "metadata": {},
   "outputs": [
    {
     "data": {
      "text/plain": [
       "<seaborn.axisgrid.FacetGrid at 0x2861d7ef790>"
      ]
     },
     "execution_count": 25,
     "metadata": {},
     "output_type": "execute_result"
    },
    {
     "data": {
      "image/png": "[encoded data removed]",
      "text/plain": [
       "<Figure size 360x360 with 1 Axes>"
      ]
     },
     "metadata": {
      "needs_background": "light"
     },
     "output_type": "display_data"
    }
   ],
   "source": [
    "sns.catplot(x=\"Profession\", y=\"Age\",  kind=\"swarm\", data=df1)"
   ]
  },
  {
   "cell_type": "code",
   "execution_count": 16,
   "id": "9cf3b46b",
   "metadata": {},
   "outputs": [
    {
     "data": {
      "text/plain": [
       "<seaborn.axisgrid.FacetGrid at 0x2861d2fd5b0>"
      ]
     },
     "execution_count": 16,
     "metadata": {},
     "output_type": "execute_result"
    },
    {
     "data": {
      "image/png": "[encoded data removed]",
      "text/plain": [
       "<Figure size 440.375x360 with 1 Axes>"
      ]
     },
     "metadata": {
      "needs_background": "light"
     },
     "output_type": "display_data"
    }
   ],
   "source": [
    "sns.catplot(x=\"Age\", y=\"Total Salary\", hue=\"Profession\", kind=\"swarm\", data=df1)"
   ]
  },
  {
   "cell_type": "code",
   "execution_count": 12,
   "id": "a7a971e4",
   "metadata": {},
   "outputs": [
    {
     "data": {
      "image/png": "[encoded data removed]",
      "text/plain": [
       "<Figure size 1440x288 with 3 Axes>"
      ]
     },
     "metadata": {
      "needs_background": "light"
     },
     "output_type": "display_data"
    }
   ],
   "source": [
    "plt.figure(1, figsize=(20,4))\n",
    "n=0\n",
    "for x in ['Age','Total Salary'  ,'No of Dependents']:\n",
    "  n += 1\n",
    "  plt.subplot(1,6,n)\n",
    "  plt.subplots_adjust(hspace=0.5, wspace=0.5)\n",
    "  sns.distplot(df1[x], bins = 20)\n",
    "  plt.title('Distplot of {}'.format(x))\n",
    "plt.show()"
   ]
  },
  {
   "cell_type": "code",
   "execution_count": 13,
   "id": "bd104bdf",
   "metadata": {},
   "outputs": [
    {
     "data": {
      "text/plain": [
       "<seaborn.axisgrid.FacetGrid at 0x2b27abad310>"
      ]
     },
     "execution_count": 13,
     "metadata": {},
     "output_type": "execute_result"
    },
    {
     "data": {
      "image/png": "[encoded data removed]",
      "text/plain": [
       "<Figure size 440.625x360 with 1 Axes>"
      ]
     },
     "metadata": {
      "needs_background": "light"
     },
     "output_type": "display_data"
    }
   ],
   "source": [
    "sns.catplot(x=\"Profession\", y=\"Age\",  hue=\"Price\" ,kind=\"swarm\", data=df1)"
   ]
  },
  {
   "cell_type": "code",
   "execution_count": 38,
   "id": "5e796a73",
   "metadata": {},
   "outputs": [
    {
     "data": {
      "image/png": "[encoded data removed]",
      "text/plain": [
       "<Figure size 864x360 with 1 Axes>"
      ]
     },
     "metadata": {
      "needs_background": "light"
     },
     "output_type": "display_data"
    }
   ],
   "source": [
    "plt.figure(figsize=(12,5))\n",
    "sns.barplot(x = 'Age',y = 'Total Salary',hue = 'Profession',data = df1)\n",
    "plt.show()"
   ]
  },
  {
   "cell_type": "code",
   "execution_count": 14,
   "id": "7262cde4",
   "metadata": {
    "scrolled": true
   },
   "outputs": [
    {
     "data": {
      "text/html": [
       "<div>\n",
       "<style scoped>\n",
       "    .dataframe tbody tr th:only-of-type {\n",
       "        vertical-align: middle;\n",
       "    }\n",
       "\n",
       "    .dataframe tbody tr th {\n",
       "        vertical-align: top;\n",
       "    }\n",
       "\n",
       "    .dataframe thead th {\n",
       "        text-align: right;\n",
       "    }\n",
       "</style>\n",
       "<table border=\"1\" class=\"dataframe\">\n",
       "  <thead>\n",
       "    <tr style=\"text-align: right;\">\n",
       "      <th></th>\n",
       "      <th>Age</th>\n",
       "      <th>Profession</th>\n",
       "      <th>Marrital Status</th>\n",
       "      <th>Education</th>\n",
       "      <th>No of Dependents</th>\n",
       "      <th>Personal loan</th>\n",
       "      <th>Total Salary</th>\n",
       "    </tr>\n",
       "  </thead>\n",
       "  <tbody>\n",
       "    <tr>\n",
       "      <th>0</th>\n",
       "      <td>27</td>\n",
       "      <td>Salaried</td>\n",
       "      <td>Single</td>\n",
       "      <td>Post Graduate</td>\n",
       "      <td>0</td>\n",
       "      <td>Yes</td>\n",
       "      <td>800000</td>\n",
       "    </tr>\n",
       "    <tr>\n",
       "      <th>1</th>\n",
       "      <td>35</td>\n",
       "      <td>Salaried</td>\n",
       "      <td>Married</td>\n",
       "      <td>Post Graduate</td>\n",
       "      <td>2</td>\n",
       "      <td>Yes</td>\n",
       "      <td>2000000</td>\n",
       "    </tr>\n",
       "    <tr>\n",
       "      <th>2</th>\n",
       "      <td>45</td>\n",
       "      <td>Business</td>\n",
       "      <td>Married</td>\n",
       "      <td>Graduate</td>\n",
       "      <td>4</td>\n",
       "      <td>Yes</td>\n",
       "      <td>1800000</td>\n",
       "    </tr>\n",
       "    <tr>\n",
       "      <th>3</th>\n",
       "      <td>41</td>\n",
       "      <td>Business</td>\n",
       "      <td>Married</td>\n",
       "      <td>Post Graduate</td>\n",
       "      <td>3</td>\n",
       "      <td>No</td>\n",
       "      <td>2200000</td>\n",
       "    </tr>\n",
       "    <tr>\n",
       "      <th>4</th>\n",
       "      <td>31</td>\n",
       "      <td>Salaried</td>\n",
       "      <td>Married</td>\n",
       "      <td>Post Graduate</td>\n",
       "      <td>2</td>\n",
       "      <td>Yes</td>\n",
       "      <td>2600000</td>\n",
       "    </tr>\n",
       "  </tbody>\n",
       "</table>\n",
       "</div>"
      ],
      "text/plain": [
       "   Age Profession Marrital Status      Education  No of Dependents  \\\n",
       "0   27   Salaried          Single  Post Graduate                 0   \n",
       "1   35   Salaried         Married  Post Graduate                 2   \n",
       "2   45   Business         Married       Graduate                 4   \n",
       "3   41   Business         Married  Post Graduate                 3   \n",
       "4   31   Salaried         Married  Post Graduate                 2   \n",
       "\n",
       "  Personal loan  Total Salary  \n",
       "0           Yes        800000  \n",
       "1           Yes       2000000  \n",
       "2           Yes       1800000  \n",
       "3            No       2200000  \n",
       "4           Yes       2600000  "
      ]
     },
     "execution_count": 14,
     "metadata": {},
     "output_type": "execute_result"
    }
   ],
   "source": [
    "df1.drop(columns=['Price'],inplace=True)\n",
    "df1.head()"
   ]
  },
  {
   "cell_type": "code",
   "execution_count": 15,
   "id": "95f18259",
   "metadata": {},
   "outputs": [
    {
     "data": {
      "text/plain": [
       "Index(['Age', 'Profession', 'Marrital Status', 'Education', 'No of Dependents',\n",
       "       'Personal loan', 'Total Salary'],\n",
       "      dtype='object')"
      ]
     },
     "execution_count": 15,
     "metadata": {},
     "output_type": "execute_result"
    }
   ],
   "source": [
    "df1.columns"
   ]
  },
  {
   "cell_type": "code",
   "execution_count": 16,
   "id": "657138a0",
   "metadata": {},
   "outputs": [
    {
     "data": {
      "text/plain": [
       "['Profession', 'Marrital Status', 'Education', 'Personal loan']"
      ]
     },
     "execution_count": 16,
     "metadata": {},
     "output_type": "execute_result"
    }
   ],
   "source": [
    "col_list=[]\n",
    "for col in df1.columns:\n",
    "    if(df1[col].dtype=='object'):\n",
    "        col_list.append(col)\n",
    "col_list"
   ]
  },
  {
   "cell_type": "code",
   "execution_count": 21,
   "id": "1f62aa88",
   "metadata": {},
   "outputs": [],
   "source": [
    "from sklearn.preprocessing import LabelEncoder"
   ]
  },
  {
   "cell_type": "code",
   "execution_count": 22,
   "id": "284b1cc2",
   "metadata": {},
   "outputs": [],
   "source": [
    "label_encoder=LabelEncoder()"
   ]
  },
  {
   "cell_type": "code",
   "execution_count": 23,
   "id": "ac46a1cb",
   "metadata": {},
   "outputs": [],
   "source": [
    "for i in col_list:\n",
    "    df1[i]=label_encoder.fit_transform(df1[i])"
   ]
  },
  {
   "cell_type": "code",
   "execution_count": 33,
   "id": "0aaaffde",
   "metadata": {},
   "outputs": [
    {
     "data": {
      "text/html": [
       "<div>\n",
       "<style scoped>\n",
       "    .dataframe tbody tr th:only-of-type {\n",
       "        vertical-align: middle;\n",
       "    }\n",
       "\n",
       "    .dataframe tbody tr th {\n",
       "        vertical-align: top;\n",
       "    }\n",
       "\n",
       "    .dataframe thead th {\n",
       "        text-align: right;\n",
       "    }\n",
       "</style>\n",
       "<table border=\"1\" class=\"dataframe\">\n",
       "  <thead>\n",
       "    <tr style=\"text-align: right;\">\n",
       "      <th></th>\n",
       "      <th>Age</th>\n",
       "      <th>Profession</th>\n",
       "      <th>Marrital Status</th>\n",
       "      <th>Education</th>\n",
       "      <th>No of Dependents</th>\n",
       "      <th>Personal loan</th>\n",
       "      <th>Total Salary</th>\n",
       "    </tr>\n",
       "  </thead>\n",
       "  <tbody>\n",
       "    <tr>\n",
       "      <th>0</th>\n",
       "      <td>27</td>\n",
       "      <td>1</td>\n",
       "      <td>1</td>\n",
       "      <td>1</td>\n",
       "      <td>0</td>\n",
       "      <td>1</td>\n",
       "      <td>800000</td>\n",
       "    </tr>\n",
       "    <tr>\n",
       "      <th>1</th>\n",
       "      <td>35</td>\n",
       "      <td>1</td>\n",
       "      <td>0</td>\n",
       "      <td>1</td>\n",
       "      <td>2</td>\n",
       "      <td>1</td>\n",
       "      <td>2000000</td>\n",
       "    </tr>\n",
       "    <tr>\n",
       "      <th>2</th>\n",
       "      <td>45</td>\n",
       "      <td>0</td>\n",
       "      <td>0</td>\n",
       "      <td>0</td>\n",
       "      <td>4</td>\n",
       "      <td>1</td>\n",
       "      <td>1800000</td>\n",
       "    </tr>\n",
       "    <tr>\n",
       "      <th>3</th>\n",
       "      <td>41</td>\n",
       "      <td>0</td>\n",
       "      <td>0</td>\n",
       "      <td>1</td>\n",
       "      <td>3</td>\n",
       "      <td>0</td>\n",
       "      <td>2200000</td>\n",
       "    </tr>\n",
       "    <tr>\n",
       "      <th>4</th>\n",
       "      <td>31</td>\n",
       "      <td>1</td>\n",
       "      <td>0</td>\n",
       "      <td>1</td>\n",
       "      <td>2</td>\n",
       "      <td>1</td>\n",
       "      <td>2600000</td>\n",
       "    </tr>\n",
       "  </tbody>\n",
       "</table>\n",
       "</div>"
      ],
      "text/plain": [
       "   Age  Profession  Marrital Status  Education  No of Dependents  \\\n",
       "0   27           1                1          1                 0   \n",
       "1   35           1                0          1                 2   \n",
       "2   45           0                0          0                 4   \n",
       "3   41           0                0          1                 3   \n",
       "4   31           1                0          1                 2   \n",
       "\n",
       "   Personal loan  Total Salary  \n",
       "0              1        800000  \n",
       "1              1       2000000  \n",
       "2              1       1800000  \n",
       "3              0       2200000  \n",
       "4              1       2600000  "
      ]
     },
     "execution_count": 33,
     "metadata": {},
     "output_type": "execute_result"
    }
   ],
   "source": [
    "df1.head()"
   ]
  },
  {
   "cell_type": "code",
   "execution_count": 26,
   "id": "eaf79d65",
   "metadata": {},
   "outputs": [
    {
     "data": {
      "text/html": [
       "<div>\n",
       "<style scoped>\n",
       "    .dataframe tbody tr th:only-of-type {\n",
       "        vertical-align: middle;\n",
       "    }\n",
       "\n",
       "    .dataframe tbody tr th {\n",
       "        vertical-align: top;\n",
       "    }\n",
       "\n",
       "    .dataframe thead th {\n",
       "        text-align: right;\n",
       "    }\n",
       "</style>\n",
       "<table border=\"1\" class=\"dataframe\">\n",
       "  <thead>\n",
       "    <tr style=\"text-align: right;\">\n",
       "      <th></th>\n",
       "      <th>pc1</th>\n",
       "      <th>pc2</th>\n",
       "      <th>pc3</th>\n",
       "      <th>pc4</th>\n",
       "      <th>pc5</th>\n",
       "      <th>pc6</th>\n",
       "      <th>pc7</th>\n",
       "    </tr>\n",
       "  </thead>\n",
       "  <tbody>\n",
       "    <tr>\n",
       "      <th>0</th>\n",
       "      <td>-1.470707e+06</td>\n",
       "      <td>-4.397408</td>\n",
       "      <td>-1.167728</td>\n",
       "      <td>-0.745547</td>\n",
       "      <td>0.521232</td>\n",
       "      <td>0.381519</td>\n",
       "      <td>0.292923</td>\n",
       "    </tr>\n",
       "    <tr>\n",
       "      <th>1</th>\n",
       "      <td>-2.707071e+05</td>\n",
       "      <td>-0.372004</td>\n",
       "      <td>0.016903</td>\n",
       "      <td>-0.659672</td>\n",
       "      <td>0.483447</td>\n",
       "      <td>0.285358</td>\n",
       "      <td>-0.267208</td>\n",
       "    </tr>\n",
       "    <tr>\n",
       "      <th>2</th>\n",
       "      <td>-4.707071e+05</td>\n",
       "      <td>10.514879</td>\n",
       "      <td>0.559523</td>\n",
       "      <td>0.626054</td>\n",
       "      <td>0.457038</td>\n",
       "      <td>0.414006</td>\n",
       "      <td>0.113824</td>\n",
       "    </tr>\n",
       "    <tr>\n",
       "      <th>3</th>\n",
       "      <td>-7.070707e+04</td>\n",
       "      <td>5.011009</td>\n",
       "      <td>0.123104</td>\n",
       "      <td>0.035773</td>\n",
       "      <td>-0.735681</td>\n",
       "      <td>0.330984</td>\n",
       "      <td>-0.045964</td>\n",
       "    </tr>\n",
       "    <tr>\n",
       "      <th>4</th>\n",
       "      <td>3.292929e+05</td>\n",
       "      <td>-6.430356</td>\n",
       "      <td>0.692948</td>\n",
       "      <td>-0.584766</td>\n",
       "      <td>0.460235</td>\n",
       "      <td>0.397497</td>\n",
       "      <td>-0.274566</td>\n",
       "    </tr>\n",
       "  </tbody>\n",
       "</table>\n",
       "</div>"
      ],
      "text/plain": [
       "            pc1        pc2       pc3       pc4       pc5       pc6       pc7\n",
       "0 -1.470707e+06  -4.397408 -1.167728 -0.745547  0.521232  0.381519  0.292923\n",
       "1 -2.707071e+05  -0.372004  0.016903 -0.659672  0.483447  0.285358 -0.267208\n",
       "2 -4.707071e+05  10.514879  0.559523  0.626054  0.457038  0.414006  0.113824\n",
       "3 -7.070707e+04   5.011009  0.123104  0.035773 -0.735681  0.330984 -0.045964\n",
       "4  3.292929e+05  -6.430356  0.692948 -0.584766  0.460235  0.397497 -0.274566"
      ]
     },
     "execution_count": 26,
     "metadata": {},
     "output_type": "execute_result"
    }
   ],
   "source": [
    "from sklearn.decomposition import PCA\n",
    "from sklearn import preprocessing\n",
    "\n",
    "pca_data = preprocessing.scale(df1)\n",
    "\n",
    "pca = PCA(n_components=7)\n",
    "pc = pca.fit_transform(df1)\n",
    "names = ['pc1','pc2','pc3','pc4','pc5','pc6','pc7']\n",
    "pf = pd.DataFrame(data = pc, columns = names)\n",
    "pf.head()"
   ]
  },
  {
   "cell_type": "code",
   "execution_count": 34,
   "id": "12bbce1c",
   "metadata": {},
   "outputs": [],
   "source": [
    "from sklearn.preprocessing import StandardScaler\n",
    "scaler=StandardScaler()\n",
    "df1_standard=scaler.fit_transform(df1)"
   ]
  },
  {
   "cell_type": "code",
   "execution_count": 35,
   "id": "9cc02ccd",
   "metadata": {},
   "outputs": [
    {
     "data": {
      "text/plain": [
       "array([[-1.4986304 ,  0.73950997,  2.36643191,  0.87627458, -1.64231252,\n",
       "         1.44697961, -1.40676   ],\n",
       "       [-0.21130364,  0.73950997, -0.42257713,  0.87627458, -0.13685938,\n",
       "         1.44697961, -0.25893659],\n",
       "       [ 1.39785482, -1.35224681, -0.42257713, -1.1411948 ,  1.36859377,\n",
       "         1.44697961, -0.4502405 ],\n",
       "       [ 0.75419144, -1.35224681, -0.42257713,  0.87627458,  0.6158672 ,\n",
       "        -0.69109474, -0.06763269],\n",
       "       [-0.85496702,  0.73950997, -0.42257713,  0.87627458, -0.13685938,\n",
       "         1.44697961,  0.31497511],\n",
       "       [-1.33771455,  0.73950997, -0.42257713, -1.1411948 ,  0.6158672 ,\n",
       "         1.44697961, -1.31110805],\n",
       "       [-0.85496702,  0.73950997, -0.42257713, -1.1411948 ,  1.36859377,\n",
       "        -0.69109474, -0.4502405 ],\n",
       "       [-0.53313533, -1.35224681, -0.42257713,  0.87627458,  1.36859377,\n",
       "        -0.69109474, -0.8328483 ],\n",
       "       [-0.37221948, -1.35224681, -0.42257713,  0.87627458,  1.36859377,\n",
       "        -0.69109474, -0.25893659],\n",
       "       [-0.37221948,  0.73950997, -0.42257713, -1.1411948 ,  0.6158672 ,\n",
       "         1.44697961, -0.35458854],\n",
       "       [-0.21130364,  0.73950997, -0.42257713,  0.87627458,  1.36859377,\n",
       "        -0.69109474, -0.25893659],\n",
       "       [-0.21130364,  0.73950997, -0.42257713, -1.1411948 ,  1.36859377,\n",
       "         1.44697961, -0.8328483 ],\n",
       "       [-1.17679871,  0.73950997, -0.42257713,  0.87627458, -1.64231252,\n",
       "        -0.69109474, -0.54589245],\n",
       "       [-1.01588286, -1.35224681,  2.36643191,  0.87627458, -0.13685938,\n",
       "         1.44697961, -0.8328483 ],\n",
       "       [-0.85496702, -1.35224681, -0.42257713, -1.1411948 ,  0.6158672 ,\n",
       "         1.44697961, -0.92850025],\n",
       "       [ 2.0415182 ,  0.73950997, -0.42257713,  0.87627458,  1.36859377,\n",
       "        -0.69109474,  2.13236217],\n",
       "       [-1.65954624,  0.73950997,  2.36643191,  0.87627458, -1.64231252,\n",
       "        -0.69109474, -1.40676   ],\n",
       "       [-1.4986304 ,  0.73950997,  2.36643191, -1.1411948 , -1.64231252,\n",
       "         1.44697961, -1.40676   ],\n",
       "       [-1.17679871,  0.73950997,  2.36643191,  0.87627458, -0.13685938,\n",
       "        -0.69109474, -1.31110805],\n",
       "       [-1.01588286,  0.73950997, -0.42257713, -1.1411948 , -1.64231252,\n",
       "        -0.69109474, -0.92850025],\n",
       "       [ 0.11052806,  0.73950997, -0.42257713,  0.87627458,  0.6158672 ,\n",
       "        -0.69109474,  0.21932316],\n",
       "       [-0.21130364, -1.35224681, -0.42257713, -1.1411948 ,  0.6158672 ,\n",
       "        -0.69109474, -0.35458854],\n",
       "       [-0.05038779, -1.35224681, -0.42257713, -1.1411948 ,  0.6158672 ,\n",
       "        -0.69109474,  0.12367121],\n",
       "       [-0.21130364, -1.35224681, -0.42257713,  0.87627458,  1.36859377,\n",
       "        -0.69109474, -0.8328483 ],\n",
       "       [-0.21130364,  0.73950997, -0.42257713, -1.1411948 ,  0.6158672 ,\n",
       "         1.44697961, -0.25893659],\n",
       "       [-0.21130364,  0.73950997, -0.42257713, -1.1411948 , -0.13685938,\n",
       "        -0.69109474,  0.60193096],\n",
       "       [-0.21130364,  0.73950997, -0.42257713,  0.87627458,  1.36859377,\n",
       "         1.44697961, -0.92850025],\n",
       "       [-0.05038779, -1.35224681, -0.42257713, -1.1411948 ,  0.6158672 ,\n",
       "        -0.69109474, -0.6415444 ],\n",
       "       [-0.05038779,  0.73950997, -0.42257713,  0.87627458,  0.6158672 ,\n",
       "         1.44697961,  0.31497511],\n",
       "       [-0.05038779,  0.73950997, -0.42257713,  0.87627458, -0.13685938,\n",
       "        -0.69109474,  0.41062706],\n",
       "       [ 0.75419144, -1.35224681, -0.42257713, -1.1411948 ,  0.6158672 ,\n",
       "        -0.69109474, -1.11980415],\n",
       "       [ 0.75419144,  0.73950997, -0.42257713, -1.1411948 ,  0.6158672 ,\n",
       "        -0.69109474, -0.16328464],\n",
       "       [ 0.75419144,  0.73950997, -0.42257713,  0.87627458,  1.36859377,\n",
       "        -0.69109474,  0.69758291],\n",
       "       [ 1.07602313, -1.35224681, -0.42257713, -1.1411948 ,  0.6158672 ,\n",
       "        -0.69109474, -0.06763269],\n",
       "       [ 0.91510728,  0.73950997, -0.42257713, -1.1411948 ,  1.36859377,\n",
       "         1.44697961, -0.16328464],\n",
       "       [ 0.91510728,  0.73950997, -0.42257713,  0.87627458,  0.6158672 ,\n",
       "        -0.69109474,  1.36714657],\n",
       "       [-1.17679871, -1.35224681, -0.42257713,  0.87627458, -1.64231252,\n",
       "        -0.69109474, -0.6415444 ],\n",
       "       [-1.01588286,  0.73950997, -0.42257713,  0.87627458, -1.64231252,\n",
       "        -0.69109474, -0.16328464],\n",
       "       [-1.01588286, -1.35224681,  2.36643191,  0.87627458, -1.64231252,\n",
       "        -0.69109474, -0.8328483 ],\n",
       "       [-0.85496702,  0.73950997, -0.42257713, -1.1411948 , -1.64231252,\n",
       "        -0.69109474, -0.06763269],\n",
       "       [-0.85496702, -1.35224681, -0.42257713,  0.87627458,  0.6158672 ,\n",
       "         1.44697961, -0.54589245],\n",
       "       [-0.69405117, -1.35224681, -0.42257713,  0.87627458, -1.64231252,\n",
       "        -0.69109474, -0.8328483 ],\n",
       "       [-0.69405117,  0.73950997, -0.42257713, -1.1411948 , -1.64231252,\n",
       "        -0.69109474,  0.12367121],\n",
       "       [-0.37221948,  0.73950997, -0.42257713,  0.87627458,  0.6158672 ,\n",
       "        -0.69109474,  0.02801926],\n",
       "       [-0.37221948,  0.73950997, -0.42257713,  0.87627458, -0.13685938,\n",
       "         1.44697961, -0.6415444 ],\n",
       "       [-0.37221948,  0.73950997, -0.42257713, -1.1411948 ,  0.6158672 ,\n",
       "        -0.69109474,  1.27149462],\n",
       "       [-0.05038779, -1.35224681, -0.42257713, -1.1411948 ,  1.36859377,\n",
       "        -0.69109474, -1.98067171],\n",
       "       [-0.05038779, -1.35224681, -0.42257713, -1.1411948 , -0.13685938,\n",
       "        -0.69109474,  0.31497511],\n",
       "       [-0.05038779,  0.73950997, -0.42257713,  0.87627458, -0.13685938,\n",
       "        -0.69109474, -0.6415444 ],\n",
       "       [-0.05038779,  0.73950997, -0.42257713, -1.1411948 ,  0.6158672 ,\n",
       "         1.44697961,  0.79323486],\n",
       "       [ 2.0415182 , -1.35224681, -0.42257713,  0.87627458,  1.36859377,\n",
       "        -0.69109474, -0.25893659],\n",
       "       [ 2.0415182 ,  0.73950997, -0.42257713,  0.87627458,  0.6158672 ,\n",
       "        -0.69109474,  1.94105827],\n",
       "       [ 1.23693897,  0.73950997, -0.42257713,  0.87627458,  1.36859377,\n",
       "        -0.69109474,  0.41062706],\n",
       "       [ 1.23693897, -1.35224681, -0.42257713,  0.87627458,  0.6158672 ,\n",
       "        -0.69109474,  1.46279852],\n",
       "       [ 0.75419144,  0.73950997, -0.42257713, -1.1411948 , -0.13685938,\n",
       "        -0.69109474,  2.32366607],\n",
       "       [ 0.75419144,  0.73950997, -0.42257713,  0.87627458,  0.6158672 ,\n",
       "         1.44697961,  0.79323486],\n",
       "       [ 0.75419144,  0.73950997, -0.42257713, -1.1411948 ,  0.6158672 ,\n",
       "        -0.69109474,  0.31497511],\n",
       "       [-1.4986304 ,  0.73950997,  2.36643191,  0.87627458, -1.64231252,\n",
       "        -0.69109474, -1.11980415],\n",
       "       [-1.4986304 , -1.35224681,  2.36643191, -1.1411948 , -1.64231252,\n",
       "        -0.69109474, -1.0241522 ],\n",
       "       [-1.33771455,  0.73950997,  2.36643191, -1.1411948 , -1.64231252,\n",
       "         1.44697961, -1.31110805],\n",
       "       [-1.33771455,  0.73950997,  2.36643191,  0.87627458, -1.64231252,\n",
       "        -0.69109474, -0.8328483 ],\n",
       "       [-1.01588286,  0.73950997,  2.36643191,  0.87627458, -1.64231252,\n",
       "        -0.69109474, -0.73719635],\n",
       "       [-0.85496702, -1.35224681,  2.36643191, -1.1411948 , -1.64231252,\n",
       "        -0.69109474, -0.25893659],\n",
       "       [-0.85496702,  0.73950997, -0.42257713,  0.87627458,  0.6158672 ,\n",
       "         1.44697961, -0.4502405 ],\n",
       "       [-0.85496702,  0.73950997, -0.42257713, -1.1411948 , -0.13685938,\n",
       "        -0.69109474, -0.16328464],\n",
       "       [ 0.43235975, -1.35224681, -0.42257713,  0.87627458,  0.6158672 ,\n",
       "        -0.69109474, -0.6415444 ],\n",
       "       [ 0.43235975, -1.35224681, -0.42257713, -1.1411948 , -0.13685938,\n",
       "         1.44697961,  1.27149462],\n",
       "       [ 0.43235975,  0.73950997, -0.42257713,  0.87627458, -0.13685938,\n",
       "        -0.69109474, -0.35458854],\n",
       "       [ 0.43235975,  0.73950997, -0.42257713,  0.87627458, -0.13685938,\n",
       "         1.44697961,  1.65410242],\n",
       "       [ 0.11052806, -1.35224681, -0.42257713, -1.1411948 ,  0.6158672 ,\n",
       "        -0.69109474, -0.54589245],\n",
       "       [ 0.11052806, -1.35224681, -0.42257713,  0.87627458, -0.13685938,\n",
       "        -0.69109474,  0.41062706],\n",
       "       [ 0.11052806,  0.73950997, -0.42257713,  0.87627458, -0.13685938,\n",
       "        -0.69109474,  0.88888681],\n",
       "       [ 0.11052806,  0.73950997, -0.42257713, -1.1411948 , -0.13685938,\n",
       "        -0.69109474, -0.92850025],\n",
       "       [-0.21130364,  0.73950997, -0.42257713,  0.87627458, -1.64231252,\n",
       "        -0.69109474,  0.21932316],\n",
       "       [-0.05038779, -1.35224681, -0.42257713, -1.1411948 , -1.64231252,\n",
       "        -0.69109474, -0.25893659],\n",
       "       [-0.05038779,  0.73950997, -0.42257713,  0.87627458, -0.13685938,\n",
       "        -0.69109474,  1.27149462],\n",
       "       [-0.05038779, -1.35224681, -0.42257713,  0.87627458, -0.13685938,\n",
       "         1.44697961, -0.35458854],\n",
       "       [-0.05038779, -1.35224681, -0.42257713, -1.1411948 ,  0.6158672 ,\n",
       "        -0.69109474,  0.60193096],\n",
       "       [ 1.23693897,  0.73950997, -0.42257713,  0.87627458,  0.6158672 ,\n",
       "        -0.69109474,  0.79323486],\n",
       "       [ 1.39785482,  0.73950997, -0.42257713,  0.87627458, -0.13685938,\n",
       "        -0.69109474,  2.13236217],\n",
       "       [ 1.55877066,  0.73950997, -0.42257713, -1.1411948 ,  0.6158672 ,\n",
       "         1.44697961, -0.16328464],\n",
       "       [ 1.23693897, -1.35224681, -0.42257713, -1.1411948 , -0.13685938,\n",
       "        -0.69109474,  2.80192583],\n",
       "       [ 1.07602313,  0.73950997, -0.42257713,  0.87627458,  0.6158672 ,\n",
       "         1.44697961,  0.12367121],\n",
       "       [ 0.91510728,  0.73950997, -0.42257713,  0.87627458, -0.13685938,\n",
       "        -0.69109474,  0.60193096],\n",
       "       [ 0.91510728,  0.73950997, -0.42257713, -1.1411948 ,  0.6158672 ,\n",
       "         1.44697961,  0.41062706],\n",
       "       [ 0.91510728, -1.35224681, -0.42257713,  0.87627458,  0.6158672 ,\n",
       "         1.44697961, -0.4502405 ],\n",
       "       [-1.17679871, -1.35224681,  2.36643191, -1.1411948 , -1.64231252,\n",
       "         1.44697961, -1.11980415],\n",
       "       [-0.53313533,  0.73950997, -0.42257713,  0.87627458, -0.13685938,\n",
       "        -0.69109474, -0.06763269],\n",
       "       [-0.37221948,  0.73950997, -0.42257713, -1.1411948 , -0.13685938,\n",
       "        -0.69109474,  1.74975437],\n",
       "       [-0.37221948, -1.35224681, -0.42257713,  0.87627458,  0.6158672 ,\n",
       "         1.44697961, -0.35458854],\n",
       "       [-0.21130364,  0.73950997, -0.42257713, -1.1411948 , -0.13685938,\n",
       "        -0.69109474, -0.8328483 ],\n",
       "       [-0.05038779,  0.73950997, -0.42257713,  0.87627458,  0.6158672 ,\n",
       "         1.44697961,  2.51496998],\n",
       "       [ 0.11052806,  0.73950997, -0.42257713, -1.1411948 , -0.13685938,\n",
       "        -0.69109474,  0.50627901],\n",
       "       [-1.4986304 ,  0.73950997,  2.36643191,  0.87627458, -1.64231252,\n",
       "        -0.69109474, -1.31110805],\n",
       "       [-1.4986304 , -1.35224681,  2.36643191, -1.1411948 , -1.64231252,\n",
       "        -0.69109474,  0.12367121],\n",
       "       [ 2.20243404,  0.73950997, -0.42257713,  0.87627458,  0.6158672 ,\n",
       "        -0.69109474,  2.70627388],\n",
       "       [ 2.36334989, -1.35224681, -0.42257713, -1.1411948 , -0.13685938,\n",
       "         1.44697961, -0.06763269],\n",
       "       [ 2.36334989,  0.73950997, -0.42257713,  0.87627458, -0.13685938,\n",
       "        -0.69109474,  1.65410242],\n",
       "       [ 2.36334989,  0.73950997, -0.42257713,  0.87627458, -0.13685938,\n",
       "         1.44697961, -0.06763269]])"
      ]
     },
     "execution_count": 35,
     "metadata": {},
     "output_type": "execute_result"
    }
   ],
   "source": [
    "df1_standard"
   ]
  },
  {
   "cell_type": "code",
   "execution_count": 36,
   "id": "efeb5c63",
   "metadata": {},
   "outputs": [
    {
     "data": {
      "image/png": "[encoded data removed]",
      "text/plain": [
       "<Figure size 864x432 with 1 Axes>"
      ]
     },
     "metadata": {
      "needs_background": "light"
     },
     "output_type": "display_data"
    }
   ],
   "source": [
    "from sklearn.cluster import KMeans  \n",
    "clusters = []\n",
    "for k in range(1,10):\n",
    "    kmeans = KMeans(n_clusters=k, init=\"k-means++\")\n",
    "    kmeans.fit(df1_standard)\n",
    "    clusters.append(kmeans.inertia_)\n",
    "plt.figure(figsize=(12,6))    \n",
    "plt.grid()\n",
    "plt.plot(range(1,10),clusters, linewidth=2, color=\"blue\", marker =\"8\")\n",
    "plt.xlabel(\"Clusters\")\n",
    "plt.xticks(np.arange(1,10,1))\n",
    "plt.ylabel(\"Inertia\")\n",
    "plt.title('Elbow Method')\n",
    "plt.show()"
   ]
  },
  {
   "cell_type": "code",
   "execution_count": 39,
   "id": "a2bdfafb",
   "metadata": {},
   "outputs": [
    {
     "data": {
      "text/plain": [
       "KMeans(n_clusters=4)"
      ]
     },
     "execution_count": 39,
     "metadata": {},
     "output_type": "execute_result"
    }
   ],
   "source": [
    "kmeans = KMeans(n_clusters=4)\n",
    "kmeans.fit(pf.iloc[:,:2])"
   ]
  },
  {
   "cell_type": "code",
   "execution_count": 40,
   "id": "e61ca6fd",
   "metadata": {},
   "outputs": [
    {
     "name": "stdout",
     "output_type": "stream",
     "text": [
      "(99,)\n"
     ]
    }
   ],
   "source": [
    "y_kmeans = kmeans.predict(pf.iloc[:,:2])\n",
    "print(y_kmeans.shape)"
   ]
  },
  {
   "cell_type": "code",
   "execution_count": 41,
   "id": "4b072c5e",
   "metadata": {},
   "outputs": [
    {
     "data": {
      "text/plain": [
       "array([3, 1, 1, 1, 0, 3, 1, 3, 1, 1, 1, 3, 1, 3, 3, 2, 3, 3, 3, 3, 0, 1,\n",
       "       0, 3, 1, 0, 3, 1, 0, 0, 3, 1, 0, 1, 1, 2, 1, 1, 3, 1, 1, 3, 0, 1,\n",
       "       1, 2, 3, 0, 1, 0, 1, 2, 0, 2, 2, 0, 0, 3, 3, 3, 3, 3, 1, 1, 1, 1,\n",
       "       2, 1, 2, 1, 0, 0, 3, 0, 1, 2, 1, 0, 0, 2, 1, 2, 0, 0, 0, 1, 3, 1,\n",
       "       2, 1, 3, 2, 0, 3, 0, 2, 1, 2, 1])"
      ]
     },
     "execution_count": 41,
     "metadata": {},
     "output_type": "execute_result"
    }
   ],
   "source": [
    "y_kmeans"
   ]
  },
  {
   "cell_type": "code",
   "execution_count": 43,
   "id": "3cf10dbc",
   "metadata": {},
   "outputs": [
    {
     "data": {
      "text/html": [
       "<div>\n",
       "<style scoped>\n",
       "    .dataframe tbody tr th:only-of-type {\n",
       "        vertical-align: middle;\n",
       "    }\n",
       "\n",
       "    .dataframe tbody tr th {\n",
       "        vertical-align: top;\n",
       "    }\n",
       "\n",
       "    .dataframe thead th {\n",
       "        text-align: right;\n",
       "    }\n",
       "</style>\n",
       "<table border=\"1\" class=\"dataframe\">\n",
       "  <thead>\n",
       "    <tr style=\"text-align: right;\">\n",
       "      <th></th>\n",
       "      <th>Age</th>\n",
       "      <th>Profession</th>\n",
       "      <th>Marrital Status</th>\n",
       "      <th>Education</th>\n",
       "      <th>No of Dependents</th>\n",
       "      <th>Personal loan</th>\n",
       "      <th>Total Salary</th>\n",
       "      <th>Cluster</th>\n",
       "    </tr>\n",
       "  </thead>\n",
       "  <tbody>\n",
       "    <tr>\n",
       "      <th>0</th>\n",
       "      <td>27</td>\n",
       "      <td>1</td>\n",
       "      <td>1</td>\n",
       "      <td>1</td>\n",
       "      <td>0</td>\n",
       "      <td>1</td>\n",
       "      <td>800000</td>\n",
       "      <td>3</td>\n",
       "    </tr>\n",
       "    <tr>\n",
       "      <th>1</th>\n",
       "      <td>35</td>\n",
       "      <td>1</td>\n",
       "      <td>0</td>\n",
       "      <td>1</td>\n",
       "      <td>2</td>\n",
       "      <td>1</td>\n",
       "      <td>2000000</td>\n",
       "      <td>1</td>\n",
       "    </tr>\n",
       "    <tr>\n",
       "      <th>2</th>\n",
       "      <td>45</td>\n",
       "      <td>0</td>\n",
       "      <td>0</td>\n",
       "      <td>0</td>\n",
       "      <td>4</td>\n",
       "      <td>1</td>\n",
       "      <td>1800000</td>\n",
       "      <td>1</td>\n",
       "    </tr>\n",
       "    <tr>\n",
       "      <th>3</th>\n",
       "      <td>41</td>\n",
       "      <td>0</td>\n",
       "      <td>0</td>\n",
       "      <td>1</td>\n",
       "      <td>3</td>\n",
       "      <td>0</td>\n",
       "      <td>2200000</td>\n",
       "      <td>1</td>\n",
       "    </tr>\n",
       "    <tr>\n",
       "      <th>4</th>\n",
       "      <td>31</td>\n",
       "      <td>1</td>\n",
       "      <td>0</td>\n",
       "      <td>1</td>\n",
       "      <td>2</td>\n",
       "      <td>1</td>\n",
       "      <td>2600000</td>\n",
       "      <td>0</td>\n",
       "    </tr>\n",
       "  </tbody>\n",
       "</table>\n",
       "</div>"
      ],
      "text/plain": [
       "   Age  Profession  Marrital Status  Education  No of Dependents  \\\n",
       "0   27           1                1          1                 0   \n",
       "1   35           1                0          1                 2   \n",
       "2   45           0                0          0                 4   \n",
       "3   41           0                0          1                 3   \n",
       "4   31           1                0          1                 2   \n",
       "\n",
       "   Personal loan  Total Salary  Cluster  \n",
       "0              1        800000        3  \n",
       "1              1       2000000        1  \n",
       "2              1       1800000        1  \n",
       "3              0       2200000        1  \n",
       "4              1       2600000        0  "
      ]
     },
     "execution_count": 43,
     "metadata": {},
     "output_type": "execute_result"
    }
   ],
   "source": [
    "df1['Cluster'] = y_kmeans\n",
    "df1.head()"
   ]
  },
  {
   "cell_type": "markdown",
   "id": "3779e298",
   "metadata": {},
   "source": [
    "# Cluster Plotting"
   ]
  },
  {
   "cell_type": "code",
   "execution_count": 46,
   "id": "4ebf2d4d",
   "metadata": {},
   "outputs": [
    {
     "data": {
      "text/plain": [
       "<matplotlib.legend.Legend at 0x2b27bf97730>"
      ]
     },
     "execution_count": 46,
     "metadata": {},
     "output_type": "execute_result"
    },
    {
     "data": {
      "image/png": "[encoded data removed]",
      "text/plain": [
       "<Figure size 504x360 with 1 Axes>"
      ]
     },
     "metadata": {},
     "output_type": "display_data"
    }
   ],
   "source": [
    "dfc1 =pf[df1.Cluster==0]\n",
    "dfc2 =pf[df1.Cluster==1]\n",
    "dfc3 =pf[df1.Cluster==2]\n",
    "dfc4 =pf[df1.Cluster==3]\n",
    "\n",
    "sns.set_style(\"whitegrid\")\n",
    "plt.rcParams['figure.figsize'] = 7,5\n",
    "\n",
    "sns.scatterplot(dfc1['pc1'],dfc1['pc2'])\n",
    "sns.scatterplot(dfc2['pc1'],dfc2['pc2'])\n",
    "sns.scatterplot(dfc3['pc1'],dfc3['pc2'])\n",
    "sns.scatterplot(dfc4['pc1'],dfc4['pc2'])\n",
    "\n",
    "plt.legend(labels=[\"Cluster 1\",\"Cluster 2\",\"Cluster 3\",\"Cluster 4\"])"
   ]
  },
  {
   "cell_type": "code",
   "execution_count": null,
   "id": "07830209",
   "metadata": {},
   "outputs": [],
   "source": []
  }
 ],
 "metadata": {
  "kernelspec": {
   "display_name": "Python 3 (ipykernel)",
   "language": "python",
   "name": "python3"
  },
  "language_info": {
   "codemirror_mode": {
    "name": "ipython",
    "version": 3
   },
   "file_extension": ".py",
   "mimetype": "text/x-python",
   "name": "python",
   "nbconvert_exporter": "python",
   "pygments_lexer": "ipython3",
   "version": "3.9.7"
  }
 },
 "nbformat": 4,
 "nbformat_minor": 5
}
